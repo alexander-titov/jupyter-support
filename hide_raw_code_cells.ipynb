%%html

<!-- This code allows to hide/unhide code cells ('In [N]') to make a notebook more readable -->

<script>
// store the curren state: hide or not
code_hidden = fale; 


function code_visibility_toggle() {
    if (code_hidden) {
        $('div.input').show();
    } else {
        $('div.input').hide();
    }
    code_hidden = !code_hidden
} 

// Invoke the function when the page is uploaded.
// Thus, all the code cells are hidden by default.
$( document ).ready(code_toggle);

</script>

&#9757;
<span style="color:gray; font-style: italic">
The raw code for this notebook is by default hidden for easier reading.
To show/hide the raw code, click  </span>

<button onclick="javascript:code_visibility_toggle()">Show/Hide Code Cells</button>
